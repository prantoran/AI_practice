{
  "nbformat": 4,
  "nbformat_minor": 0,
  "metadata": {
    "colab": {
      "name": "torchnn",
      "provenance": [],
      "collapsed_sections": [],
      "authorship_tag": "ABX9TyO/HTVLQrxUkJ5MB5ngEo2X",
      "include_colab_link": true
    },
    "kernelspec": {
      "name": "python3",
      "display_name": "Python 3"
    }
  },
  "cells": [
    {
      "cell_type": "markdown",
      "metadata": {
        "id": "view-in-github",
        "colab_type": "text"
      },
      "source": [
        "<a href=\"https://colab.research.google.com/github/prantoran/ai-prac/blob/master/py_torch/torchnn.ipynb\" target=\"_parent\"><img src=\"https://colab.research.google.com/assets/colab-badge.svg\" alt=\"Open In Colab\"/></a>"
      ]
    },
    {
      "cell_type": "code",
      "metadata": {
        "colab": {
          "base_uri": "https://localhost:8080/"
        },
        "id": "xn0ZKZnEf6pr",
        "outputId": "f89ec7e4-a478-416f-c117-233ed3384fab"
      },
      "source": [
        "from pathlib import Path\n",
        "import requests\n",
        "\n",
        "DATA_PATH = Path(\"data\")\n",
        "print(\"DATA_PATH:\", DATA_PATH)\n",
        "PATH = DATA_PATH / \"mnist\"\n",
        "print(\"PATH:\", PATH)\n",
        "PATH.mkdir(parents=True, exist_ok=True)\n",
        "\n",
        "URL = \"https://github.com/pytorch/tutorials/raw/master/_static/\"\n",
        "FILENAME = \"mnist.pkl.gz\"\n",
        "\n",
        "if not (PATH / FILENAME).exists():\n",
        "        content = requests.get(URL + FILENAME).content\n",
        "        (PATH / FILENAME).open(\"wb\").write(content)"
      ],
      "execution_count": 1,
      "outputs": [
        {
          "output_type": "stream",
          "text": [
            "DATA_PATH: data\n",
            "PATH: data/mnist\n"
          ],
          "name": "stdout"
        }
      ]
    },
    {
      "cell_type": "code",
      "metadata": {
        "id": "-_eBsmpG7gCb"
      },
      "source": [
        "import pickle\n",
        "import gzip\n",
        "\n",
        "with gzip.open((PATH / FILENAME).as_posix(), \"rb\") as f:\n",
        "        ((x_train, y_train), (x_valid, y_valid), _) = pickle.load(f, encoding=\"latin-1\")"
      ],
      "execution_count": 2,
      "outputs": []
    },
    {
      "cell_type": "code",
      "metadata": {
        "colab": {
          "base_uri": "https://localhost:8080/",
          "height": 282
        },
        "id": "g9m3PliE880u",
        "outputId": "8677e2bb-d550-4ab1-a00e-676f314c4869"
      },
      "source": [
        "from matplotlib import pyplot\n",
        "import numpy as np\n",
        "\n",
        "pyplot.imshow(x_train[0].reshape((28, 28)), cmap=\"gray\")\n",
        "print(x_train.shape)"
      ],
      "execution_count": 3,
      "outputs": [
        {
          "output_type": "stream",
          "text": [
            "(50000, 784)\n"
          ],
          "name": "stdout"
        },
        {
          "output_type": "display_data",
          "data": {
            "image/png": "[encoded data removed]",
            "text/plain": [
              "<Figure size 432x288 with 1 Axes>"
            ]
          },
          "metadata": {
            "tags": [],
            "needs_background": "light"
          }
        }
      ]
    },
    {
      "cell_type": "code",
      "metadata": {
        "colab": {
          "base_uri": "https://localhost:8080/"
        },
        "id": "FUsUd6cB9pFb",
        "outputId": "c6112b31-b888-4a3d-b639-e00d9f9adb8d"
      },
      "source": [
        "import torch\n",
        "\n",
        "x_train, y_train, x_valid, y_valid = map(\n",
        "    torch.tensor, (x_train, y_train, x_valid, y_valid)\n",
        ")\n",
        "n, c = x_train.shape\n",
        "# x_train, x_train.shape, y_train.min(), y_train.max()\n",
        "print(x_train, y_train)\n",
        "print(x_train.shape)\n",
        "print(y_train.min(), y_train.max())"
      ],
      "execution_count": 4,
      "outputs": [
        {
          "output_type": "stream",
          "text": [
            "tensor([[0., 0., 0.,  ..., 0., 0., 0.],\n",
            "        [0., 0., 0.,  ..., 0., 0., 0.],\n",
            "        [0., 0., 0.,  ..., 0., 0., 0.],\n",
            "        ...,\n",
            "        [0., 0., 0.,  ..., 0., 0., 0.],\n",
            "        [0., 0., 0.,  ..., 0., 0., 0.],\n",
            "        [0., 0., 0.,  ..., 0., 0., 0.]]) tensor([5, 0, 4,  ..., 8, 4, 8])\n",
            "torch.Size([50000, 784])\n",
            "tensor(0) tensor(9)\n"
          ],
          "name": "stdout"
        }
      ]
    },
    {
      "cell_type": "code",
      "metadata": {
        "id": "Rj_nZgAtAKGR"
      },
      "source": [
        "import math\n",
        "\n",
        "weights = torch.randn(784, 10) / math.sqrt(784) # Xaview initialization\n",
        "# by multiplying with 1/sqrt(n)\n",
        "# shape: torch.Size([784, 10])\n",
        "\n",
        "# records all operations to be used during backpropagation\n",
        "# suffix _ indicates in-place operation\n",
        "# turned on after initialization above so that initialization not recorded\n",
        "weights.requires_grad_()\n",
        "bias = torch.zeros(10, requires_grad=True)\n",
        "# bias shape: torch.Size([10])"
      ],
      "execution_count": 14,
      "outputs": []
    },
    {
      "cell_type": "code",
      "metadata": {
        "id": "sgCkYVAV8UvO"
      },
      "source": [
        "# activation function\n",
        "def log_softmax(x):\n",
        "    # x: torch.Tensor\n",
        "    return x - x.exp().sum(-1).log().unsqueeze(-1)\n",
        "\n",
        "def model(xb):\n",
        "    # xb expected to be type torch.Tensor\n",
        "    return log_softmax(xb @ weights + bias)"
      ],
      "execution_count": 18,
      "outputs": []
    },
    {
      "cell_type": "code",
      "metadata": {
        "colab": {
          "base_uri": "https://localhost:8080/"
        },
        "id": "tB-MG9Wo2Yhk",
        "outputId": "c863dfb6-7f0b-4259-af3f-80d576c507c4"
      },
      "source": [
        "\n",
        "# @ dot product operation\n",
        "# 1 forward pass: calling our func on 1 batch of data (in this case, 64 images)\n",
        "\n",
        "bs = 64  # batch size\n",
        "\n",
        "xb = x_train[0:bs]  # a mini-batch from x\n",
        "# xb: torch.Tensor\n",
        "\n",
        "preds = model(xb)  # predictions\n",
        "preds[0], preds.shape\n",
        "print(preds[0], preds.shape)\n",
        "\n",
        "\n",
        "# tensor contains not only the tensor values, but also a gradient function. \n",
        "  # We’ll use this later to do backprop."
      ],
      "execution_count": 29,
      "outputs": [
        {
          "output_type": "stream",
          "text": [
            "tensor([-2.1648, -2.6249, -2.4690, -1.8716, -2.5731, -2.1278, -2.4795, -2.0327,\n",
            "        -3.2633, -2.0729], grad_fn=<SelectBackward>) torch.Size([64, 10])\n"
          ],
          "name": "stdout"
        }
      ]
    },
    {
      "cell_type": "code",
      "metadata": {
        "id": "Elj3wOlI3Sje"
      },
      "source": [
        "# loss func: negative log likelihood\n",
        "def nll(input, target):\n",
        "  # target.shape: torch.Size([64]) target.shape[0]: 64\n",
        "  # type(input): <class 'torch.Tensor'>\n",
        "  # type(target): <class 'torch.Tensor'>\n",
        "  # input.shape: torch.Size([64, 10])\n",
        "  # input[range(target.shape[0]), target]\n",
        "    # access the probabilities prediced for each label in target\n",
        "      # for each record in the input input\n",
        "      # and represent the predicted values for the target labels\n",
        "      # as a 1D torch.Tensor\n",
        "  return -input[range(target.shape[0]), target].mean()\n",
        "\n",
        "loss_func = nll"
      ],
      "execution_count": 30,
      "outputs": []
    },
    {
      "cell_type": "code",
      "metadata": {
        "colab": {
          "base_uri": "https://localhost:8080/"
        },
        "id": "cZ_Ms-Bq8S69",
        "outputId": "45f42b38-5f6d-4a48-9942-31d786d4548c"
      },
      "source": [
        "yb = y_train[0:bs]\n",
        "print(loss_func(preds, yb))"
      ],
      "execution_count": 31,
      "outputs": [
        {
          "output_type": "stream",
          "text": [
            "tensor(2.3128, grad_fn=<NegBackward>)\n"
          ],
          "name": "stdout"
        }
      ]
    },
    {
      "cell_type": "code",
      "metadata": {
        "id": "Y9TfhTRt8hzU"
      },
      "source": [
        "# For each prediction, if the index with the largest value matches the target\n",
        "  # value, then the prediction was correct.\n",
        "def accuracy(out, yb):\n",
        "    preds = torch.argmax(out, dim=1) # dim=1 finds argmax per row/record\n",
        "    return (preds == yb).float().mean()\n"
      ],
      "execution_count": 32,
      "outputs": []
    },
    {
      "cell_type": "code",
      "metadata": {
        "colab": {
          "base_uri": "https://localhost:8080/"
        },
        "id": "SXGVmKJICbw7",
        "outputId": "60a5edfa-d6f1-47a1-da20-b583c53936ad"
      },
      "source": [
        "print(accuracy(preds, yb))"
      ],
      "execution_count": 33,
      "outputs": [
        {
          "output_type": "stream",
          "text": [
            "tensor(0.0625)\n"
          ],
          "name": "stdout"
        }
      ]
    },
    {
      "cell_type": "code",
      "metadata": {
        "colab": {
          "base_uri": "https://localhost:8080/"
        },
        "id": "nRNvaWA2CeG6",
        "outputId": "e7cdcbc6-d73c-4297-b59a-345dbfe17e1e"
      },
      "source": [
        "print(preds.shape)"
      ],
      "execution_count": 42,
      "outputs": [
        {
          "output_type": "stream",
          "text": [
            "torch.Size([64, 10])\n"
          ],
          "name": "stdout"
        }
      ]
    },
    {
      "cell_type": "code",
      "metadata": {
        "colab": {
          "base_uri": "https://localhost:8080/"
        },
        "id": "NrI-XG5jClJW",
        "outputId": "2ef5f45c-bcb2-4a59-efa5-1619075c5f7b"
      },
      "source": [
        "# We can now run a training loop. For each iteration, we will:\n",
        "\n",
        "#     select a mini-batch of data (of size bs)\n",
        "#     use the model to make predictions\n",
        "#     calculate the loss\n",
        "#     loss.backward() updates the gradients of the model, \n",
        "      # in this case, weights and bias.\n",
        "\n",
        "# We now use these gradients to update the weights and bias. We do this within \n",
        "  # the torch.no_grad() context manager, because we do not want these actions \n",
        "  # to be recorded for our next calculation of the gradient. \n",
        "\n",
        "# We then set the gradients to zero, so that we are ready for the next loop. \n",
        "  # Otherwise, our gradients would record a running tally of all the operations \n",
        "  # that had happened (i.e. loss.backward() adds the gradients to \n",
        "  # whatever is already stored, rather than replacing them).\n",
        "\n",
        "from IPython.core.debugger import set_trace\n",
        "\n",
        "lr = 0.5  # learning rate\n",
        "epochs = 2  # how many epochs to train for\n",
        "\n",
        "for epoch in range(epochs):\n",
        "    for i in range((n - 1) // bs + 1):\n",
        "        # set_trace()\n",
        "\n",
        "\n",
        "        start_i = i * bs\n",
        "        end_i = start_i + bs\n",
        "        xb = x_train[start_i:end_i]\n",
        "        yb = y_train[start_i:end_i]\n",
        "        pred = model(xb)\n",
        "        loss = loss_func(pred, yb)\n",
        "\n",
        "        loss.backward()\n",
        "        with torch.no_grad():\n",
        "            weights -= weights.grad * lr\n",
        "            bias -= bias.grad * lr\n",
        "            weights.grad.zero_()\n",
        "            bias.grad.zero_()"
      ],
      "execution_count": null,
      "outputs": [
        {
          "output_type": "stream",
          "text": [
            "> \u001b[0;32m<ipython-input-43-1b8e5a2a3e45>\u001b[0m(26)\u001b[0;36m<module>\u001b[0;34m()\u001b[0m\n",
            "\u001b[0;32m     24 \u001b[0;31m    \u001b[0;32mfor\u001b[0m \u001b[0mi\u001b[0m \u001b[0;32min\u001b[0m \u001b[0mrange\u001b[0m\u001b[0;34m(\u001b[0m\u001b[0;34m(\u001b[0m\u001b[0mn\u001b[0m \u001b[0;34m-\u001b[0m \u001b[0;36m1\u001b[0m\u001b[0;34m)\u001b[0m \u001b[0;34m//\u001b[0m \u001b[0mbs\u001b[0m \u001b[0;34m+\u001b[0m \u001b[0;36m1\u001b[0m\u001b[0;34m)\u001b[0m\u001b[0;34m:\u001b[0m\u001b[0;34m\u001b[0m\u001b[0;34m\u001b[0m\u001b[0m\n",
            "\u001b[0m\u001b[0;32m     25 \u001b[0;31m        \u001b[0mset_trace\u001b[0m\u001b[0;34m(\u001b[0m\u001b[0;34m)\u001b[0m\u001b[0;34m\u001b[0m\u001b[0;34m\u001b[0m\u001b[0m\n",
            "\u001b[0m\u001b[0;32m---> 26 \u001b[0;31m        \u001b[0mstart_i\u001b[0m \u001b[0;34m=\u001b[0m \u001b[0mi\u001b[0m \u001b[0;34m*\u001b[0m \u001b[0mbs\u001b[0m\u001b[0;34m\u001b[0m\u001b[0;34m\u001b[0m\u001b[0m\n",
            "\u001b[0m\u001b[0;32m     27 \u001b[0;31m        \u001b[0mend_i\u001b[0m \u001b[0;34m=\u001b[0m \u001b[0mstart_i\u001b[0m \u001b[0;34m+\u001b[0m \u001b[0mbs\u001b[0m\u001b[0;34m\u001b[0m\u001b[0;34m\u001b[0m\u001b[0m\n",
            "\u001b[0m\u001b[0;32m     28 \u001b[0;31m        \u001b[0mxb\u001b[0m \u001b[0;34m=\u001b[0m \u001b[0mx_train\u001b[0m\u001b[0;34m[\u001b[0m\u001b[0mstart_i\u001b[0m\u001b[0;34m:\u001b[0m\u001b[0mend_i\u001b[0m\u001b[0;34m]\u001b[0m\u001b[0;34m\u001b[0m\u001b[0;34m\u001b[0m\u001b[0m\n",
            "\u001b[0m\n",
            "ipdb> \n",
            "ipdb> \n",
            "ipdb> \n",
            "ipdb> \n",
            "ipdb> \n",
            "ipdb> \n",
            "ipdb> \n",
            "ipdb> \n",
            "ipdb> \n",
            "ipdb> \n",
            "ipdb> \n",
            "ipdb> \n",
            "ipdb> \n",
            "ipdb> \n",
            "ipdb> \n",
            "ipdb> \n",
            "ipdb> \n",
            "ipdb> \n",
            "ipdb> \n",
            "ipdb> \n",
            "ipdb> \n",
            "--KeyboardInterrupt--\n",
            "--KeyboardInterrupt--\n"
          ],
          "name": "stdout"
        }
      ]
    },
    {
      "cell_type": "code",
      "metadata": {
        "id": "Yo6bsvlfHS8z"
      },
      "source": [
        ""
      ],
      "execution_count": null,
      "outputs": []
    }
  ]
}