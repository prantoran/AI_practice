{
  "nbformat": 4,
  "nbformat_minor": 0,
  "metadata": {
    "colab": {
      "name": "torchnn",
      "provenance": [],
      "collapsed_sections": [],
      "authorship_tag": "ABX9TyO+MmedEKeQPnhdd/SXINYA",
      "include_colab_link": true
    },
    "kernelspec": {
      "name": "python3",
      "display_name": "Python 3"
    }
  },
  "cells": [
    {
      "cell_type": "markdown",
      "metadata": {
        "id": "view-in-github",
        "colab_type": "text"
      },
      "source": [
        "<a href=\"https://colab.research.google.com/github/prantoran/ai-prac/blob/master/py_torch/torchnn.ipynb\" target=\"_parent\"><img src=\"https://colab.research.google.com/assets/colab-badge.svg\" alt=\"Open In Colab\"/></a>"
      ]
    },
    {
      "cell_type": "code",
      "metadata": {
        "colab": {
          "base_uri": "https://localhost:8080/"
        },
        "id": "xn0ZKZnEf6pr",
        "outputId": "f89ec7e4-a478-416f-c117-233ed3384fab"
      },
      "source": [
        "from pathlib import Path\n",
        "import requests\n",
        "\n",
        "DATA_PATH = Path(\"data\")\n",
        "print(\"DATA_PATH:\", DATA_PATH)\n",
        "PATH = DATA_PATH / \"mnist\"\n",
        "print(\"PATH:\", PATH)\n",
        "PATH.mkdir(parents=True, exist_ok=True)\n",
        "\n",
        "URL = \"https://github.com/pytorch/tutorials/raw/master/_static/\"\n",
        "FILENAME = \"mnist.pkl.gz\"\n",
        "\n",
        "if not (PATH / FILENAME).exists():\n",
        "        content = requests.get(URL + FILENAME).content\n",
        "        (PATH / FILENAME).open(\"wb\").write(content)"
      ],
      "execution_count": 1,
      "outputs": [
        {
          "output_type": "stream",
          "text": [
            "DATA_PATH: data\n",
            "PATH: data/mnist\n"
          ],
          "name": "stdout"
        }
      ]
    },
    {
      "cell_type": "code",
      "metadata": {
        "id": "-_eBsmpG7gCb"
      },
      "source": [
        "import pickle\n",
        "import gzip\n",
        "\n",
        "with gzip.open((PATH / FILENAME).as_posix(), \"rb\") as f:\n",
        "        ((x_train, y_train), (x_valid, y_valid), _) = pickle.load(f, encoding=\"latin-1\")"
      ],
      "execution_count": 2,
      "outputs": []
    },
    {
      "cell_type": "code",
      "metadata": {
        "colab": {
          "base_uri": "https://localhost:8080/",
          "height": 282
        },
        "id": "g9m3PliE880u",
        "outputId": "8677e2bb-d550-4ab1-a00e-676f314c4869"
      },
      "source": [
        "from matplotlib import pyplot\n",
        "import numpy as np\n",
        "\n",
        "pyplot.imshow(x_train[0].reshape((28, 28)), cmap=\"gray\")\n",
        "print(x_train.shape)"
      ],
      "execution_count": 3,
      "outputs": [
        {
          "output_type": "stream",
          "text": [
            "(50000, 784)\n"
          ],
          "name": "stdout"
        },
        {
          "output_type": "display_data",
          "data": {
            "image/png": "[encoded data removed]",
            "text/plain": [
              "<Figure size 432x288 with 1 Axes>"
            ]
          },
          "metadata": {
            "tags": [],
            "needs_background": "light"
          }
        }
      ]
    },
    {
      "cell_type": "code",
      "metadata": {
        "colab": {
          "base_uri": "https://localhost:8080/"
        },
        "id": "FUsUd6cB9pFb",
        "outputId": "c6112b31-b888-4a3d-b639-e00d9f9adb8d"
      },
      "source": [
        "import torch\n",
        "\n",
        "x_train, y_train, x_valid, y_valid = map(\n",
        "    torch.tensor, (x_train, y_train, x_valid, y_valid)\n",
        ")\n",
        "n, c = x_train.shape\n",
        "# x_train, x_train.shape, y_train.min(), y_train.max()\n",
        "print(x_train, y_train)\n",
        "print(x_train.shape)\n",
        "print(y_train.min(), y_train.max())"
      ],
      "execution_count": 4,
      "outputs": [
        {
          "output_type": "stream",
          "text": [
            "tensor([[0., 0., 0.,  ..., 0., 0., 0.],\n",
            "        [0., 0., 0.,  ..., 0., 0., 0.],\n",
            "        [0., 0., 0.,  ..., 0., 0., 0.],\n",
            "        ...,\n",
            "        [0., 0., 0.,  ..., 0., 0., 0.],\n",
            "        [0., 0., 0.,  ..., 0., 0., 0.],\n",
            "        [0., 0., 0.,  ..., 0., 0., 0.]]) tensor([5, 0, 4,  ..., 8, 4, 8])\n",
            "torch.Size([50000, 784])\n",
            "tensor(0) tensor(9)\n"
          ],
          "name": "stdout"
        }
      ]
    },
    {
      "cell_type": "code",
      "metadata": {
        "id": "Rj_nZgAtAKGR"
      },
      "source": [
        "import math\n",
        "\n",
        "weights = torch.randn(784, 10) / math.sqrt(784) # Xaview initialization\n",
        "# by multiplying with 1/sqrt(n)\n",
        "# shape: torch.Size([784, 10])\n",
        "\n",
        "# records all operations to be used during backpropagation\n",
        "# suffix _ indicates in-place operation\n",
        "# turned on after initialization above so that initialization not recorded\n",
        "weights.requires_grad_()\n",
        "bias = torch.zeros(10, requires_grad=True)\n",
        "# bias shape: torch.Size([10])"
      ],
      "execution_count": 14,
      "outputs": []
    },
    {
      "cell_type": "code",
      "metadata": {
        "id": "sgCkYVAV8UvO"
      },
      "source": [
        "# activation function\n",
        "def log_softmax(x):\n",
        "    # x: torch.Tensor\n",
        "    return x - x.exp().sum(-1).log().unsqueeze(-1)\n",
        "\n",
        "def model(xb):\n",
        "    # xb expected to be type torch.Tensor\n",
        "    return log_softmax(xb @ weights + bias)"
      ],
      "execution_count": 18,
      "outputs": []
    },
    {
      "cell_type": "code",
      "metadata": {
        "colab": {
          "base_uri": "https://localhost:8080/"
        },
        "id": "tB-MG9Wo2Yhk",
        "outputId": "71e1a2b0-50ca-44f0-da96-d5c798d69778"
      },
      "source": [
        "\n",
        "# @ dot product operation\n",
        "# 1 forward pass: calling our func on 1 batch of data (in this case, 64 images)\n",
        "\n",
        "bs = 64  # batch size\n",
        "\n",
        "xb = x_train[0:bs]  # a mini-batch from x\n",
        "# xb: torch.Tensor\n",
        "\n",
        "preds = model(xb)  # predictions\n",
        "preds[0], preds.shape\n",
        "print(preds[0], preds.shape)\n",
        "\n",
        "\n",
        "# tensor contains not only the tensor values, but also a gradient function. We’ll use this later to do backprop."
      ],
      "execution_count": 19,
      "outputs": [
        {
          "output_type": "stream",
          "text": [
            "tensor([-2.1648, -2.6249, -2.4690, -1.8716, -2.5731, -2.1278, -2.4795, -2.0327,\n",
            "        -3.2633, -2.0729], grad_fn=<SelectBackward>) torch.Size([64, 10])\n"
          ],
          "name": "stdout"
        }
      ]
    },
    {
      "cell_type": "code",
      "metadata": {
        "id": "Elj3wOlI3Sje"
      },
      "source": [
        "# loss func: negative log likelihood\n",
        "def nll(input, target):\n",
        "  # target.shape: torch.Size([64]) target.shape[0]: 64\n",
        "  # type(input): <class 'torch.Tensor'>\n",
        "  # type(target): <class 'torch.Tensor'>\n",
        "  print(\"input.shape:\", input.shape)\n",
        "  print(\"input:\", input, \"type(input):\", type(input))\n",
        "  print(\"target:\", target, \"type(target):\", type(target))\n",
        "  print(\"target.shape:\", target.shape, \"target.shape[0]:\", target.shape[0])\n",
        "  print(\"range(target.shape[0]):\", range(target.shape[0]))\n",
        "  print(\"input[range(target.shape[0]), target]:\", input[range(target.shape[0]), target])\n",
        "  print(\"input[range(target.shape[0]), target].mean():\", input[range(target.shape[0]), target].mean())\n",
        "  print(\"-input[range(target.shape[0]), target].mean():\", -input[range(target.shape[0]), target].mean())\n",
        "  return -input[range(target.shape[0]), target].mean()\n",
        "\n",
        "loss_func = nll"
      ],
      "execution_count": 23,
      "outputs": []
    },
    {
      "cell_type": "code",
      "metadata": {
        "colab": {
          "base_uri": "https://localhost:8080/"
        },
        "id": "cZ_Ms-Bq8S69",
        "outputId": "729d57b9-c3f8-41cf-dc0d-333a98450a48"
      },
      "source": [
        "yb = y_train[0:bs]\n",
        "print(\"yb:\", yb)\n",
        "print(loss_func(preds, yb))"
      ],
      "execution_count": 24,
      "outputs": [
        {
          "output_type": "stream",
          "text": [
            "yb: tensor([5, 0, 4, 1, 9, 2, 1, 3, 1, 4, 3, 5, 3, 6, 1, 7, 2, 8, 6, 9, 4, 0, 9, 1,\n",
            "        1, 2, 4, 3, 2, 7, 3, 8, 6, 9, 0, 5, 6, 0, 7, 6, 1, 8, 7, 9, 3, 9, 8, 5,\n",
            "        9, 3, 3, 0, 7, 4, 9, 8, 0, 9, 4, 1, 4, 4, 6, 0])\n",
            "input.shape: torch.Size([64, 10])\n",
            "input: tensor([[-2.1648, -2.6249, -2.4690, -1.8716, -2.5731, -2.1278, -2.4795, -2.0327,\n",
            "         -3.2633, -2.0729],\n",
            "        [-2.3754, -2.4621, -2.3329, -1.7422, -2.6526, -2.3424, -2.2176, -2.0346,\n",
            "         -2.5997, -2.6712],\n",
            "        [-2.2839, -2.6491, -2.2029, -2.2858, -2.3198, -2.6653, -2.4234, -2.0229,\n",
            "         -2.2471, -2.1141],\n",
            "        [-2.0285, -2.4276, -2.3282, -1.7153, -2.5039, -2.5031, -2.2477, -2.6537,\n",
            "         -2.5759, -2.4406],\n",
            "        [-2.2253, -2.3262, -2.7916, -2.0206, -2.7942, -2.1510, -2.1009, -2.0351,\n",
            "         -2.8049, -2.2134],\n",
            "        [-2.3759, -2.3850, -2.2575, -2.2511, -2.5323, -2.4760, -2.5784, -2.1874,\n",
            "         -2.3531, -1.8429],\n",
            "        [-2.3879, -2.2660, -2.2197, -2.0632, -2.8681, -2.5357, -2.3686, -2.1690,\n",
            "         -3.1360, -1.7071],\n",
            "        [-2.4243, -2.6566, -2.8139, -1.7487, -2.6925, -2.3826, -1.9723, -2.1069,\n",
            "         -2.5995, -2.1872],\n",
            "        [-2.1345, -2.2403, -2.3789, -2.2043, -2.7692, -2.1545, -2.3808, -2.2607,\n",
            "         -2.9258, -1.9433],\n",
            "        [-2.1423, -2.3450, -2.4182, -2.1854, -2.3539, -2.5226, -2.4765, -2.2716,\n",
            "         -2.6194, -1.8973],\n",
            "        [-2.0565, -2.5092, -2.1949, -2.0777, -2.6303, -2.5167, -2.1580, -2.2341,\n",
            "         -3.0974, -2.0131],\n",
            "        [-2.3496, -2.1832, -2.1025, -2.1452, -2.4138, -2.9970, -2.1145, -2.7066,\n",
            "         -1.9241, -2.5278],\n",
            "        [-2.2749, -2.4829, -1.7990, -2.4607, -2.7400, -2.8477, -1.9955, -2.2123,\n",
            "         -2.6109, -2.1083],\n",
            "        [-2.4013, -2.2776, -2.4785, -2.3377, -2.3274, -2.4048, -2.3955, -1.9764,\n",
            "         -2.6898, -1.9588],\n",
            "        [-2.1279, -2.2770, -2.3668, -2.2453, -2.6080, -2.5007, -2.4254, -2.2161,\n",
            "         -2.8096, -1.8005],\n",
            "        [-2.7763, -2.2259, -2.7291, -1.7862, -2.4109, -2.0818, -2.0827, -2.2517,\n",
            "         -2.8394, -2.3628],\n",
            "        [-2.5549, -1.8280, -2.1749, -1.9328, -2.6520, -2.6995, -2.5206, -2.0769,\n",
            "         -2.9844, -2.2149],\n",
            "        [-2.4113, -2.5141, -2.4779, -1.9118, -2.3351, -2.8302, -1.9460, -2.1477,\n",
            "         -2.5730, -2.2450],\n",
            "        [-2.3548, -2.0904, -2.4680, -2.6460, -2.4467, -2.2548, -2.1017, -2.1680,\n",
            "         -2.3721, -2.2600],\n",
            "        [-2.5357, -2.3331, -2.5663, -2.0204, -2.3546, -2.2826, -1.9617, -2.1427,\n",
            "         -2.8356, -2.2949],\n",
            "        [-2.6711, -2.3910, -2.4181, -2.1761, -2.6222, -2.7150, -2.1093, -1.7952,\n",
            "         -2.5828, -2.0033],\n",
            "        [-2.0016, -2.3160, -2.4025, -1.6378, -2.7056, -2.5757, -2.4118, -2.2157,\n",
            "         -2.5513, -2.7858],\n",
            "        [-2.3266, -2.3272, -2.5619, -2.2926, -2.3940, -2.4809, -1.9531, -1.9371,\n",
            "         -2.7312, -2.2965],\n",
            "        [-2.1266, -2.4948, -2.3078, -1.6844, -2.5060, -2.5013, -2.0897, -2.6780,\n",
            "         -2.5726, -2.5149],\n",
            "        [-2.3980, -2.2080, -1.8620, -2.5218, -2.4840, -2.4639, -2.2309, -2.2623,\n",
            "         -2.9146, -2.0461],\n",
            "        [-2.1371, -2.3201, -2.5603, -2.1696, -2.8674, -3.2537, -1.8509, -2.0036,\n",
            "         -2.2262, -2.3343],\n",
            "        [-2.3361, -2.2940, -2.5562, -2.1602, -2.7264, -1.9439, -2.2208, -2.2117,\n",
            "         -2.6357, -2.1960],\n",
            "        [-2.2030, -2.6698, -2.5328, -1.8128, -2.7432, -2.8283, -2.0149, -1.6963,\n",
            "         -3.2123, -2.3308],\n",
            "        [-2.0521, -2.5042, -2.3091, -1.9347, -2.4869, -2.6388, -2.3645, -2.2385,\n",
            "         -2.9842, -1.9649],\n",
            "        [-2.2262, -2.3609, -2.0451, -2.1000, -2.4090, -2.3853, -2.0838, -2.6309,\n",
            "         -2.5554, -2.4102],\n",
            "        [-2.1576, -2.2872, -2.1037, -2.3354, -2.8604, -2.9549, -2.2620, -2.0224,\n",
            "         -2.6808, -1.8988],\n",
            "        [-2.3887, -2.3147, -2.2997, -2.0330, -2.6108, -3.1104, -2.0844, -1.9426,\n",
            "         -2.6271, -2.1189],\n",
            "        [-2.2725, -2.1803, -2.5108, -2.3220, -2.5426, -2.0583, -2.3053, -2.2409,\n",
            "         -3.0932, -1.9183],\n",
            "        [-2.4378, -2.5948, -2.1495, -2.0523, -2.2629, -2.4132, -1.9153, -2.3412,\n",
            "         -3.0527, -2.2193],\n",
            "        [-1.9368, -2.7013, -2.4916, -1.9676, -2.3510, -2.4088, -2.1227, -2.5019,\n",
            "         -2.7819, -2.1423],\n",
            "        [-2.2735, -2.2809, -2.1234, -1.9127, -2.4567, -2.6695, -2.5489, -2.4548,\n",
            "         -2.5143, -2.0590],\n",
            "        [-2.6188, -2.4304, -2.1255, -2.4902, -2.9263, -2.8641, -2.5034, -1.8858,\n",
            "         -3.2193, -1.3755],\n",
            "        [-2.2565, -2.4718, -2.3480, -1.8243, -2.4267, -2.4797, -2.2485, -2.3945,\n",
            "         -2.4978, -2.2747],\n",
            "        [-2.4805, -2.0355, -2.4035, -2.0629, -2.6485, -2.5063, -2.3156, -1.8773,\n",
            "         -2.8835, -2.2235],\n",
            "        [-2.3967, -2.1567, -2.6588, -2.5622, -2.5600, -2.0972, -2.3444, -1.7840,\n",
            "         -3.2241, -1.9494],\n",
            "        [-2.2713, -2.2606, -2.1715, -2.3093, -2.5938, -2.4010, -2.0896, -2.3022,\n",
            "         -2.9611, -1.9783],\n",
            "        [-1.9426, -2.5974, -2.4424, -1.8601, -2.5287, -2.4700, -2.1205, -2.2221,\n",
            "         -2.9750, -2.3451],\n",
            "        [-2.3379, -2.0609, -2.4446, -2.1311, -2.8133, -2.0649, -2.2419, -2.1316,\n",
            "         -2.9637, -2.2323],\n",
            "        [-2.3928, -2.2565, -2.4274, -2.2878, -2.4446, -2.2151, -2.0015, -1.9817,\n",
            "         -3.0932, -2.3031],\n",
            "        [-2.1819, -2.4566, -2.1866, -2.2210, -2.6816, -2.5256, -2.0729, -2.2205,\n",
            "         -2.6344, -2.0712],\n",
            "        [-2.1681, -2.1411, -2.9919, -1.8981, -2.6093, -2.2783, -2.2095, -2.1192,\n",
            "         -2.9805, -2.1952],\n",
            "        [-2.0904, -2.1209, -2.5594, -1.9970, -2.8068, -2.3698, -2.1927, -2.2830,\n",
            "         -2.5035, -2.3637],\n",
            "        [-2.5767, -2.4156, -2.7538, -1.6083, -2.2479, -2.0558, -2.5255, -2.8854,\n",
            "         -2.7412, -1.9894],\n",
            "        [-2.4682, -2.0987, -2.2064, -2.2022, -3.0462, -2.1776, -2.3604, -2.0246,\n",
            "         -2.8457, -2.0667],\n",
            "        [-2.2371, -2.4598, -2.3705, -1.7789, -2.7015, -2.4944, -2.1073, -2.1069,\n",
            "         -2.8950, -2.3291],\n",
            "        [-2.0499, -2.5429, -2.2955, -2.4584, -2.4158, -2.4760, -1.8602, -2.4128,\n",
            "         -2.7769, -2.0753],\n",
            "        [-2.5377, -2.2806, -2.7335, -1.9133, -2.8030, -2.7767, -2.3653, -1.4926,\n",
            "         -2.2543, -2.8197],\n",
            "        [-2.2081, -2.3022, -2.6010, -1.7517, -2.5553, -2.0077, -2.6687, -2.1822,\n",
            "         -2.8984, -2.3734],\n",
            "        [-2.5958, -2.3174, -2.1044, -2.0077, -2.4658, -2.3804, -2.1837, -2.3287,\n",
            "         -2.7863, -2.1076],\n",
            "        [-2.2992, -2.1571, -2.8636, -2.1909, -2.2915, -2.4777, -2.1253, -1.9956,\n",
            "         -2.8922, -2.1263],\n",
            "        [-2.2015, -2.4839, -2.6736, -2.1927, -2.3096, -2.1518, -2.0334, -2.4039,\n",
            "         -2.5087, -2.2338],\n",
            "        [-2.0681, -2.3187, -2.3912, -1.8876, -2.8464, -2.8726, -2.4308, -2.0349,\n",
            "         -2.1887, -2.4431],\n",
            "        [-2.6356, -2.2698, -2.8041, -1.7650, -2.6137, -2.1243, -1.8726, -2.3292,\n",
            "         -2.8102, -2.4172],\n",
            "        [-2.5833, -2.4627, -2.8297, -1.9274, -2.9432, -2.5930, -2.1718, -2.0143,\n",
            "         -2.6355, -1.6705],\n",
            "        [-1.9892, -2.4430, -2.2122, -1.7162, -2.6803, -2.5884, -2.1638, -2.9322,\n",
            "         -2.4752, -2.3960],\n",
            "        [-2.2474, -2.4418, -2.1137, -2.0936, -2.1850, -3.0658, -2.5941, -1.6481,\n",
            "         -2.7865, -2.5844],\n",
            "        [-2.3983, -2.4970, -2.5701, -1.7275, -2.4111, -2.5319, -2.0480, -2.6757,\n",
            "         -2.5056, -2.0888],\n",
            "        [-2.3612, -2.4789, -2.3599, -2.4211, -2.8427, -2.3260, -1.8799, -2.2858,\n",
            "         -2.7679, -1.7985],\n",
            "        [-2.2315, -2.1520, -2.6149, -1.8912, -2.9671, -3.0635, -2.0574, -1.6186,\n",
            "         -2.7661, -2.7291]], grad_fn=<SubBackward0>) type(input): <class 'torch.Tensor'>\n",
            "target: tensor([5, 0, 4, 1, 9, 2, 1, 3, 1, 4, 3, 5, 3, 6, 1, 7, 2, 8, 6, 9, 4, 0, 9, 1,\n",
            "        1, 2, 4, 3, 2, 7, 3, 8, 6, 9, 0, 5, 6, 0, 7, 6, 1, 8, 7, 9, 3, 9, 8, 5,\n",
            "        9, 3, 3, 0, 7, 4, 9, 8, 0, 9, 4, 1, 4, 4, 6, 0]) type(target): <class 'torch.Tensor'>\n",
            "target.shape: torch.Size([64]) target.shape[0]: 64\n",
            "range(target.shape[0]): range(0, 64)\n",
            "input[range(target.shape[0]), target]: tensor([-2.1278, -2.3754, -2.3198, -2.4276, -2.2134, -2.2575, -2.2660, -1.7487,\n",
            "        -2.2403, -2.3539, -2.0777, -2.9970, -2.4607, -2.3955, -2.2770, -2.2517,\n",
            "        -2.1749, -2.5730, -2.1017, -2.2949, -2.6222, -2.0016, -2.2965, -2.4948,\n",
            "        -2.2080, -2.5603, -2.7264, -1.8128, -2.3091, -2.6309, -2.3354, -2.6271,\n",
            "        -2.3053, -2.2193, -1.9368, -2.6695, -2.5034, -2.2565, -1.8773, -2.3444,\n",
            "        -2.2606, -2.9750, -2.1316, -2.3031, -2.2210, -2.1952, -2.5035, -2.0558,\n",
            "        -2.0667, -1.7789, -2.4584, -2.5377, -2.1822, -2.4658, -2.1263, -2.5087,\n",
            "        -2.0681, -2.4172, -2.9432, -2.4430, -2.1850, -2.4111, -1.8799, -2.2315],\n",
            "       grad_fn=<IndexBackward>)\n",
            "input[range(target.shape[0]), target].mean(): tensor(-2.3128, grad_fn=<MeanBackward0>)\n",
            "-input[range(target.shape[0]), target].mean(): tensor(2.3128, grad_fn=<NegBackward>)\n",
            "tensor(2.3128, grad_fn=<NegBackward>)\n"
          ],
          "name": "stdout"
        }
      ]
    },
    {
      "cell_type": "code",
      "metadata": {
        "id": "Y9TfhTRt8hzU"
      },
      "source": [
        ""
      ],
      "execution_count": null,
      "outputs": []
    }
  ]
}